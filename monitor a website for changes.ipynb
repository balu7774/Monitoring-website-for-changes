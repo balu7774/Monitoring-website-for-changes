{
 "cells": [
  {
   "cell_type": "code",
   "execution_count": 1,
   "metadata": {},
   "outputs": [],
   "source": [
    "\n",
    "import hashlib\n",
    "import urllib.request\n",
    "import random\n",
    "import time\n"
   ]
  },
  {
   "cell_type": "code",
   "execution_count": 2,
   "metadata": {},
   "outputs": [],
   "source": [
    "#url = \"S:\\LevaData\\Coronavirus Outbreak in India - covid19india.org.html\"\n",
    "#url = \"https://stackoverflow.com/questions/34475051/need-to-install-urllib2-for-python-3-5-1\"\n",
    "#url = \"https://www.murata.com/en-sg/support/contactinformation?main=%7B95FE766C-E7CA-4CEA-880D-DBB0D732A07A%7D\""
   ]
  },
  {
   "cell_type": "code",
   "execution_count": 2,
   "metadata": {},
   "outputs": [
    {
     "name": "stdout",
     "output_type": "stream",
     "text": [
      "Changed\n"
     ]
    }
   ],
   "source": [
    "# Hunter Thornsberry\n",
    "# http://www.adventuresintechland.com\n",
    "\n",
    "# WebChange.py\n",
    "# Alerts you when a webpage has changed it's content by comparing checksums of the html.\n",
    "\n",
    "# url to be scraped\n",
    "url=\"https://www.murata.com/en-sg/support/contactinformation?main=%7B95FE766C-E7CA-4CEA-880D-DBB0D732A07A%7D\"\n",
    "# time between checks in seconds\n",
    "sleeptime = 60\n",
    "\n",
    "def getHash():\n",
    "    # random integer to select user agent\n",
    "    randomint = random.randint(0,7)\n",
    "\n",
    "    # User_Agents\n",
    "    # This helps skirt a bit around servers that detect repeaded requests from the same machine.\n",
    "    # This will not prevent your IP from getting banned but will help a bit by pretending to be different browsers\n",
    "    # and operating systems.\n",
    "    user_agents = [\n",
    "        'Mozilla/5.0 (Windows; U; Windows NT 5.1; it; rv:1.8.1.11) Gecko/20071127 Firefox/2.0.0.11',\n",
    "        'Opera/9.25 (Windows NT 5.1; U; en)',\n",
    "        'Mozilla/4.0 (compatible; MSIE 6.0; Windows NT 5.1; SV1; .NET CLR 1.1.4322; .NET CLR 2.0.50727)',\n",
    "        'Mozilla/5.0 (compatible; Konqueror/3.5; Linux) KHTML/3.5.5 (like Gecko) (Kubuntu)',\n",
    "        'Mozilla/5.0 (Windows NT 5.1) AppleWebKit/535.19 (KHTML, like Gecko) Chrome/18.0.1025.142 Safari/535.19',\n",
    "        'Mozilla/5.0 (Macintosh; Intel Mac OS X 10.7; rv:11.0) Gecko/20100101 Firefox/11.0',\n",
    "        'Mozilla/5.0 (Macintosh; Intel Mac OS X 10.6; rv:8.0.1) Gecko/20100101 Firefox/8.0.1',\n",
    "        'Mozilla/5.0 (Windows NT 6.1; WOW64) AppleWebKit/535.19 (KHTML, like Gecko) Chrome/18.0.1025.151 Safari/535.19'\n",
    "    ]\n",
    "\n",
    "    opener = urllib.request.build_opener()\n",
    "    opener.addheaders = [('User-agent', user_agents[randomint])]\n",
    "    response = opener.open(url)\n",
    "    the_page = response.read()\n",
    "\n",
    "    return hashlib.sha224(the_page).hexdigest()\n",
    "\n",
    "current_hash = getHash() # Get the current hash, which is what the website is now\n",
    "\n",
    "while 1: # Run forever\n",
    "    if getHash() == current_hash: # If nothing has changed\n",
    "        print(\"Not Changed\")\n",
    "    else: # If something has changed\n",
    "        print(\"Changed\")\n",
    "        '''\n",
    "        msg=\"found web scraping word in the site\"\n",
    "        fromaddr=\"manthinabalakrishna7@gmail.com\"\n",
    "        toaddrs=\"markevans62962@gmail.com\"\n",
    "        print('From: ' + fromaddr)\n",
    "        print('To: ' + str(toaddrs))\n",
    "        print('Message: ' + msg)\n",
    "        server.sendmail(fromaddr, toaddrs, msg)\n",
    "        server.quit()\n",
    "        '''\n",
    "        break\n",
    "    time.sleep(sleeptime)"
   ]
  },
  {
   "cell_type": "code",
   "execution_count": null,
   "metadata": {},
   "outputs": [
    {
     "name": "stdout",
     "output_type": "stream",
     "text": [
      "Not Changed\n"
     ]
    }
   ],
   "source": [
    "# Hunter Thornsberry\n",
    "# http://www.adventuresintechland.com\n",
    "\n",
    "# WebChange.py\n",
    "# Alerts you when a webpage has changed it's content by comparing checksums of the html.\n",
    "\n",
    "# url to be scraped\n",
    "url=\"https://nptel.ac.in/\"\n",
    "# time between checks in seconds\n",
    "sleeptime = 60\n",
    "\n",
    "def getHash():\n",
    "    # random integer to select user agent\n",
    "    randomint = random.randint(0,7)\n",
    "\n",
    "    # User_Agents\n",
    "    # This helps skirt a bit around servers that detect repeaded requests from the same machine.\n",
    "    # This will not prevent your IP from getting banned but will help a bit by pretending to be different browsers\n",
    "    # and operating systems.\n",
    "    user_agents = [\n",
    "        'Mozilla/5.0 (Windows; U; Windows NT 5.1; it; rv:1.8.1.11) Gecko/20071127 Firefox/2.0.0.11',\n",
    "        'Opera/9.25 (Windows NT 5.1; U; en)',\n",
    "        'Mozilla/4.0 (compatible; MSIE 6.0; Windows NT 5.1; SV1; .NET CLR 1.1.4322; .NET CLR 2.0.50727)',\n",
    "        'Mozilla/5.0 (compatible; Konqueror/3.5; Linux) KHTML/3.5.5 (like Gecko) (Kubuntu)',\n",
    "        'Mozilla/5.0 (Windows NT 5.1) AppleWebKit/535.19 (KHTML, like Gecko) Chrome/18.0.1025.142 Safari/535.19',\n",
    "        'Mozilla/5.0 (Macintosh; Intel Mac OS X 10.7; rv:11.0) Gecko/20100101 Firefox/11.0',\n",
    "        'Mozilla/5.0 (Macintosh; Intel Mac OS X 10.6; rv:8.0.1) Gecko/20100101 Firefox/8.0.1',\n",
    "        'Mozilla/5.0 (Windows NT 6.1; WOW64) AppleWebKit/535.19 (KHTML, like Gecko) Chrome/18.0.1025.151 Safari/535.19'\n",
    "    ]\n",
    "\n",
    "    opener = urllib.request.build_opener()\n",
    "    opener.addheaders = [('User-agent', user_agents[randomint])]\n",
    "    response = opener.open(url)\n",
    "    the_page = response.read()\n",
    "\n",
    "    return hashlib.sha224(the_page).hexdigest()\n",
    "\n",
    "current_hash = getHash() # Get the current hash, which is what the website is now\n",
    "\n",
    "while 1: # Run forever\n",
    "    if getHash() == current_hash: # If nothing has changed\n",
    "        print(\"Not Changed\")\n",
    "    else: # If something has changed\n",
    "        print(\"Changed\")\n",
    "        '''\n",
    "        msg=\"found web scraping word in the site\"\n",
    "        fromaddr=\"manthinabalakrishna7@gmail.com\"\n",
    "        toaddrs=\"markevans62962@gmail.com\"\n",
    "        print('From: ' + fromaddr)\n",
    "        print('To: ' + str(toaddrs))\n",
    "        print('Message: ' + msg)\n",
    "        server.sendmail(fromaddr, toaddrs, msg)\n",
    "        server.quit()\n",
    "        '''\n",
    "        break\n",
    "    time.sleep(sleeptime)"
   ]
  },
  {
   "cell_type": "code",
   "execution_count": null,
   "metadata": {},
   "outputs": [],
   "source": []
  }
 ],
 "metadata": {
  "kernelspec": {
   "display_name": "Python 3",
   "language": "python",
   "name": "python3"
  },
  "language_info": {
   "codemirror_mode": {
    "name": "ipython",
    "version": 3
   },
   "file_extension": ".py",
   "mimetype": "text/x-python",
   "name": "python",
   "nbconvert_exporter": "python",
   "pygments_lexer": "ipython3",
   "version": "3.7.6"
  }
 },
 "nbformat": 4,
 "nbformat_minor": 4
}
